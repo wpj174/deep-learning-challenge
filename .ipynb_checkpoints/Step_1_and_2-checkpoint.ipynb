{
 "cells": [
  {
   "cell_type": "markdown",
   "metadata": {
    "id": "1CRGkVUOcnvc"
   },
   "source": [
    "## Preprocessing"
   ]
  },
  {
   "cell_type": "code",
   "execution_count": 28,
   "metadata": {
    "colab": {
     "base_uri": "https://localhost:8080/",
     "height": 496
    },
    "id": "BLhcSleWcnvg",
    "outputId": "19e7476d-420f-4b46-da57-3de8ad2ec133"
   },
   "outputs": [
    {
     "data": {
      "text/html": [
       "<div>\n",
       "<style scoped>\n",
       "    .dataframe tbody tr th:only-of-type {\n",
       "        vertical-align: middle;\n",
       "    }\n",
       "\n",
       "    .dataframe tbody tr th {\n",
       "        vertical-align: top;\n",
       "    }\n",
       "\n",
       "    .dataframe thead th {\n",
       "        text-align: right;\n",
       "    }\n",
       "</style>\n",
       "<table border=\"1\" class=\"dataframe\">\n",
       "  <thead>\n",
       "    <tr style=\"text-align: right;\">\n",
       "      <th></th>\n",
       "      <th>EIN</th>\n",
       "      <th>NAME</th>\n",
       "      <th>APPLICATION_TYPE</th>\n",
       "      <th>AFFILIATION</th>\n",
       "      <th>CLASSIFICATION</th>\n",
       "      <th>USE_CASE</th>\n",
       "      <th>ORGANIZATION</th>\n",
       "      <th>STATUS</th>\n",
       "      <th>INCOME_AMT</th>\n",
       "      <th>SPECIAL_CONSIDERATIONS</th>\n",
       "      <th>ASK_AMT</th>\n",
       "      <th>IS_SUCCESSFUL</th>\n",
       "    </tr>\n",
       "  </thead>\n",
       "  <tbody>\n",
       "    <tr>\n",
       "      <th>0</th>\n",
       "      <td>10520599</td>\n",
       "      <td>BLUE KNIGHTS MOTORCYCLE CLUB</td>\n",
       "      <td>T10</td>\n",
       "      <td>Independent</td>\n",
       "      <td>C1000</td>\n",
       "      <td>ProductDev</td>\n",
       "      <td>Association</td>\n",
       "      <td>1</td>\n",
       "      <td>0</td>\n",
       "      <td>N</td>\n",
       "      <td>5000</td>\n",
       "      <td>1</td>\n",
       "    </tr>\n",
       "    <tr>\n",
       "      <th>1</th>\n",
       "      <td>10531628</td>\n",
       "      <td>AMERICAN CHESAPEAKE CLUB CHARITABLE TR</td>\n",
       "      <td>T3</td>\n",
       "      <td>Independent</td>\n",
       "      <td>C2000</td>\n",
       "      <td>Preservation</td>\n",
       "      <td>Co-operative</td>\n",
       "      <td>1</td>\n",
       "      <td>1-9999</td>\n",
       "      <td>N</td>\n",
       "      <td>108590</td>\n",
       "      <td>1</td>\n",
       "    </tr>\n",
       "    <tr>\n",
       "      <th>2</th>\n",
       "      <td>10547893</td>\n",
       "      <td>ST CLOUD PROFESSIONAL FIREFIGHTERS</td>\n",
       "      <td>T5</td>\n",
       "      <td>CompanySponsored</td>\n",
       "      <td>C3000</td>\n",
       "      <td>ProductDev</td>\n",
       "      <td>Association</td>\n",
       "      <td>1</td>\n",
       "      <td>0</td>\n",
       "      <td>N</td>\n",
       "      <td>5000</td>\n",
       "      <td>0</td>\n",
       "    </tr>\n",
       "    <tr>\n",
       "      <th>3</th>\n",
       "      <td>10553066</td>\n",
       "      <td>SOUTHSIDE ATHLETIC ASSOCIATION</td>\n",
       "      <td>T3</td>\n",
       "      <td>CompanySponsored</td>\n",
       "      <td>C2000</td>\n",
       "      <td>Preservation</td>\n",
       "      <td>Trust</td>\n",
       "      <td>1</td>\n",
       "      <td>10000-24999</td>\n",
       "      <td>N</td>\n",
       "      <td>6692</td>\n",
       "      <td>1</td>\n",
       "    </tr>\n",
       "    <tr>\n",
       "      <th>4</th>\n",
       "      <td>10556103</td>\n",
       "      <td>GENETIC RESEARCH INSTITUTE OF THE DESERT</td>\n",
       "      <td>T3</td>\n",
       "      <td>Independent</td>\n",
       "      <td>C1000</td>\n",
       "      <td>Heathcare</td>\n",
       "      <td>Trust</td>\n",
       "      <td>1</td>\n",
       "      <td>100000-499999</td>\n",
       "      <td>N</td>\n",
       "      <td>142590</td>\n",
       "      <td>1</td>\n",
       "    </tr>\n",
       "  </tbody>\n",
       "</table>\n",
       "</div>"
      ],
      "text/plain": [
       "        EIN                                      NAME APPLICATION_TYPE  \\\n",
       "0  10520599              BLUE KNIGHTS MOTORCYCLE CLUB              T10   \n",
       "1  10531628    AMERICAN CHESAPEAKE CLUB CHARITABLE TR               T3   \n",
       "2  10547893        ST CLOUD PROFESSIONAL FIREFIGHTERS               T5   \n",
       "3  10553066            SOUTHSIDE ATHLETIC ASSOCIATION               T3   \n",
       "4  10556103  GENETIC RESEARCH INSTITUTE OF THE DESERT               T3   \n",
       "\n",
       "        AFFILIATION CLASSIFICATION      USE_CASE  ORGANIZATION  STATUS  \\\n",
       "0       Independent          C1000    ProductDev   Association       1   \n",
       "1       Independent          C2000  Preservation  Co-operative       1   \n",
       "2  CompanySponsored          C3000    ProductDev   Association       1   \n",
       "3  CompanySponsored          C2000  Preservation         Trust       1   \n",
       "4       Independent          C1000     Heathcare         Trust       1   \n",
       "\n",
       "      INCOME_AMT SPECIAL_CONSIDERATIONS  ASK_AMT  IS_SUCCESSFUL  \n",
       "0              0                      N     5000              1  \n",
       "1         1-9999                      N   108590              1  \n",
       "2              0                      N     5000              0  \n",
       "3    10000-24999                      N     6692              1  \n",
       "4  100000-499999                      N   142590              1  "
      ]
     },
     "execution_count": 28,
     "metadata": {},
     "output_type": "execute_result"
    }
   ],
   "source": [
    "# Import our dependencies\n",
    "from sklearn.model_selection import train_test_split\n",
    "from sklearn.preprocessing import StandardScaler\n",
    "import pandas as pd\n",
    "import tensorflow as tf\n",
    "\n",
    "#  Import and read the charity_data.csv.\n",
    "import pandas as pd\n",
    "\n",
    "charity1_df = pd.read_csv(\"Resources/charity_data.csv\")\n",
    "charity1_df.head()"
   ]
  },
  {
   "cell_type": "code",
   "execution_count": 29,
   "metadata": {
    "id": "FQ_nN-S6cnvj"
   },
   "outputs": [
    {
     "data": {
      "text/html": [
       "<div>\n",
       "<style scoped>\n",
       "    .dataframe tbody tr th:only-of-type {\n",
       "        vertical-align: middle;\n",
       "    }\n",
       "\n",
       "    .dataframe tbody tr th {\n",
       "        vertical-align: top;\n",
       "    }\n",
       "\n",
       "    .dataframe thead th {\n",
       "        text-align: right;\n",
       "    }\n",
       "</style>\n",
       "<table border=\"1\" class=\"dataframe\">\n",
       "  <thead>\n",
       "    <tr style=\"text-align: right;\">\n",
       "      <th></th>\n",
       "      <th>APPLICATION_TYPE</th>\n",
       "      <th>AFFILIATION</th>\n",
       "      <th>CLASSIFICATION</th>\n",
       "      <th>USE_CASE</th>\n",
       "      <th>ORGANIZATION</th>\n",
       "      <th>STATUS</th>\n",
       "      <th>INCOME_AMT</th>\n",
       "      <th>SPECIAL_CONSIDERATIONS</th>\n",
       "      <th>ASK_AMT</th>\n",
       "      <th>IS_SUCCESSFUL</th>\n",
       "    </tr>\n",
       "  </thead>\n",
       "  <tbody>\n",
       "    <tr>\n",
       "      <th>0</th>\n",
       "      <td>T10</td>\n",
       "      <td>Independent</td>\n",
       "      <td>C1000</td>\n",
       "      <td>ProductDev</td>\n",
       "      <td>Association</td>\n",
       "      <td>1</td>\n",
       "      <td>0</td>\n",
       "      <td>N</td>\n",
       "      <td>5000</td>\n",
       "      <td>1</td>\n",
       "    </tr>\n",
       "    <tr>\n",
       "      <th>1</th>\n",
       "      <td>T3</td>\n",
       "      <td>Independent</td>\n",
       "      <td>C2000</td>\n",
       "      <td>Preservation</td>\n",
       "      <td>Co-operative</td>\n",
       "      <td>1</td>\n",
       "      <td>1-9999</td>\n",
       "      <td>N</td>\n",
       "      <td>108590</td>\n",
       "      <td>1</td>\n",
       "    </tr>\n",
       "    <tr>\n",
       "      <th>2</th>\n",
       "      <td>T5</td>\n",
       "      <td>CompanySponsored</td>\n",
       "      <td>C3000</td>\n",
       "      <td>ProductDev</td>\n",
       "      <td>Association</td>\n",
       "      <td>1</td>\n",
       "      <td>0</td>\n",
       "      <td>N</td>\n",
       "      <td>5000</td>\n",
       "      <td>0</td>\n",
       "    </tr>\n",
       "    <tr>\n",
       "      <th>3</th>\n",
       "      <td>T3</td>\n",
       "      <td>CompanySponsored</td>\n",
       "      <td>C2000</td>\n",
       "      <td>Preservation</td>\n",
       "      <td>Trust</td>\n",
       "      <td>1</td>\n",
       "      <td>10000-24999</td>\n",
       "      <td>N</td>\n",
       "      <td>6692</td>\n",
       "      <td>1</td>\n",
       "    </tr>\n",
       "    <tr>\n",
       "      <th>4</th>\n",
       "      <td>T3</td>\n",
       "      <td>Independent</td>\n",
       "      <td>C1000</td>\n",
       "      <td>Heathcare</td>\n",
       "      <td>Trust</td>\n",
       "      <td>1</td>\n",
       "      <td>100000-499999</td>\n",
       "      <td>N</td>\n",
       "      <td>142590</td>\n",
       "      <td>1</td>\n",
       "    </tr>\n",
       "  </tbody>\n",
       "</table>\n",
       "</div>"
      ],
      "text/plain": [
       "  APPLICATION_TYPE       AFFILIATION CLASSIFICATION      USE_CASE  \\\n",
       "0              T10       Independent          C1000    ProductDev   \n",
       "1               T3       Independent          C2000  Preservation   \n",
       "2               T5  CompanySponsored          C3000    ProductDev   \n",
       "3               T3  CompanySponsored          C2000  Preservation   \n",
       "4               T3       Independent          C1000     Heathcare   \n",
       "\n",
       "   ORGANIZATION  STATUS     INCOME_AMT SPECIAL_CONSIDERATIONS  ASK_AMT  \\\n",
       "0   Association       1              0                      N     5000   \n",
       "1  Co-operative       1         1-9999                      N   108590   \n",
       "2   Association       1              0                      N     5000   \n",
       "3         Trust       1    10000-24999                      N     6692   \n",
       "4         Trust       1  100000-499999                      N   142590   \n",
       "\n",
       "   IS_SUCCESSFUL  \n",
       "0              1  \n",
       "1              1  \n",
       "2              0  \n",
       "3              1  \n",
       "4              1  "
      ]
     },
     "execution_count": 29,
     "metadata": {},
     "output_type": "execute_result"
    }
   ],
   "source": [
    "# Drop the non-beneficial ID columns, 'EIN' and 'NAME'.\n",
    "\n",
    "charity2_df = charity1_df.drop(['EIN', 'NAME'], axis=1, inplace=False)\n",
    "charity2_df.head()"
   ]
  },
  {
   "cell_type": "code",
   "execution_count": 30,
   "metadata": {
    "id": "1Z6S2LXxcnvj",
    "outputId": "ed4ecddc-dd64-401f-f090-3ce65798dd7f"
   },
   "outputs": [
    {
     "name": "stdout",
     "output_type": "stream",
     "text": [
      "APPLICATION_TYPE 17\n",
      "AFFILIATION 6\n",
      "CLASSIFICATION 71\n",
      "USE_CASE 5\n",
      "ORGANIZATION 4\n",
      "STATUS 2\n",
      "INCOME_AMT 9\n",
      "SPECIAL_CONSIDERATIONS 2\n",
      "ASK_AMT 8747\n",
      "IS_SUCCESSFUL 2\n"
     ]
    }
   ],
   "source": [
    "# Determine the number of unique values in each column.\n",
    "\n",
    "for col in charity2_df.columns:\n",
    "    print(col, len(charity2_df[col].unique().tolist()))"
   ]
  },
  {
   "cell_type": "code",
   "execution_count": 31,
   "metadata": {
    "id": "1kLeHIyNcnvk",
    "outputId": "331dc197-327b-4f82-a77e-bddf9e0f78a2"
   },
   "outputs": [
    {
     "data": {
      "text/plain": [
       "T3     27037\n",
       "T4      1542\n",
       "T6      1216\n",
       "T5      1173\n",
       "T19     1065\n",
       "T8       737\n",
       "T7       725\n",
       "T10      528\n",
       "T9       156\n",
       "T13       66\n",
       "T12       27\n",
       "T2        16\n",
       "T14        3\n",
       "T25        3\n",
       "T29        2\n",
       "T15        2\n",
       "T17        1\n",
       "Name: APPLICATION_TYPE, dtype: int64"
      ]
     },
     "execution_count": 31,
     "metadata": {},
     "output_type": "execute_result"
    }
   ],
   "source": [
    "# Look at APPLICATION_TYPE value counts for binning\n",
    "\n",
    "application_types = charity2_df['APPLICATION_TYPE'].value_counts()\n",
    "application_types"
   ]
  },
  {
   "cell_type": "code",
   "execution_count": 32,
   "metadata": {
    "id": "5oKYg6PFcnvl",
    "outputId": "30e33688-e4d0-451b-864a-bd12fc51496f"
   },
   "outputs": [
    {
     "data": {
      "text/plain": [
       "T3       27037\n",
       "T4        1542\n",
       "T6        1216\n",
       "T5        1173\n",
       "T19       1065\n",
       "T8         737\n",
       "T7         725\n",
       "T10        528\n",
       "Other      276\n",
       "Name: APPLICATION_TYPE, dtype: int64"
      ]
     },
     "execution_count": 32,
     "metadata": {},
     "output_type": "execute_result"
    }
   ],
   "source": [
    "# Choose a cutoff value and create a list of application types to be replaced\n",
    "# use the variable name `application_types_to_replace`\n",
    "\n",
    "application_types_to_replace = list(application_types[application_types < 500].index)\n",
    "\n",
    "# Replace in dataframe\n",
    "for app in application_types_to_replace:\n",
    "    charity2_df['APPLICATION_TYPE'] = charity2_df['APPLICATION_TYPE'].replace(app,\"Other\")\n",
    "\n",
    "# Check to make sure binning was successful\n",
    "charity2_df['APPLICATION_TYPE'].value_counts()"
   ]
  },
  {
   "cell_type": "code",
   "execution_count": 33,
   "metadata": {
    "id": "6_nmfMOzcnvl",
    "outputId": "05995634-b5f4-4776-930b-75a21e4f8f1a"
   },
   "outputs": [
    {
     "data": {
      "text/plain": [
       "C1000    17326\n",
       "C2000     6074\n",
       "C1200     4837\n",
       "C3000     1918\n",
       "C2100     1883\n",
       "         ...  \n",
       "C4120        1\n",
       "C1236        1\n",
       "C6100        1\n",
       "C4500        1\n",
       "C8210        1\n",
       "Name: CLASSIFICATION, Length: 71, dtype: int64"
      ]
     },
     "execution_count": 33,
     "metadata": {},
     "output_type": "execute_result"
    }
   ],
   "source": [
    "# Look at CLASSIFICATION value counts for binning\n",
    "\n",
    "class_types = charity2_df['CLASSIFICATION'].value_counts()\n",
    "class_types"
   ]
  },
  {
   "cell_type": "code",
   "execution_count": 34,
   "metadata": {
    "id": "6w3nEq13cnvm",
    "outputId": "d3dcc17f-b5b4-4233-9aa8-ed7b1c2bb632"
   },
   "outputs": [
    {
     "data": {
      "text/plain": [
       "C1000    17326\n",
       "C2000     6074\n",
       "C1200     4837\n",
       "C3000     1918\n",
       "C2100     1883\n",
       "C7000      777\n",
       "C1700      287\n",
       "C4000      194\n",
       "C5000      116\n",
       "C1270      114\n",
       "C2700      104\n",
       "C2800       95\n",
       "C7100       75\n",
       "C1300       58\n",
       "C1280       50\n",
       "C1230       36\n",
       "C1400       34\n",
       "C2300       32\n",
       "C7200       32\n",
       "C1240       30\n",
       "C8000       20\n",
       "Name: CLASSIFICATION, dtype: int64"
      ]
     },
     "execution_count": 34,
     "metadata": {},
     "output_type": "execute_result"
    }
   ],
   "source": [
    "# You may find it helpful to look at CLASSIFICATION value counts >1\n",
    "\n",
    "class_types[class_types >= 20]"
   ]
  },
  {
   "cell_type": "code",
   "execution_count": 35,
   "metadata": {
    "id": "JQJTAvDCcnvm",
    "outputId": "fb8a7764-6a82-42a7-8ef9-9aca15f02dfb"
   },
   "outputs": [
    {
     "data": {
      "text/plain": [
       "C1000    17326\n",
       "C2000     6074\n",
       "C1200     4837\n",
       "C3000     1918\n",
       "C2100     1883\n",
       "Other     1484\n",
       "C7000      777\n",
       "Name: CLASSIFICATION, dtype: int64"
      ]
     },
     "execution_count": 35,
     "metadata": {},
     "output_type": "execute_result"
    }
   ],
   "source": [
    "# Choose a cutoff value and create a list of classifications to be replaced\n",
    "# use the variable name `classifications_to_replace`\n",
    "\n",
    "class_types_to_replace = list(class_types[class_types < 300].index)\n",
    "\n",
    "# Replace in dataframe\n",
    "for cls in class_types_to_replace:\n",
    "    charity2_df['CLASSIFICATION'] = charity2_df['CLASSIFICATION'].replace(cls,\"Other\")\n",
    "    \n",
    "# Check to make sure binning was successful\n",
    "charity2_df['CLASSIFICATION'].value_counts()"
   ]
  },
  {
   "cell_type": "code",
   "execution_count": 36,
   "metadata": {
    "id": "Fm-Rv3JPcnvn"
   },
   "outputs": [
    {
     "data": {
      "text/plain": [
       "(34299, 45)"
      ]
     },
     "execution_count": 36,
     "metadata": {},
     "output_type": "execute_result"
    }
   ],
   "source": [
    "# Convert categorical data to numeric with `pd.get_dummies`\n",
    "\n",
    "charity3_df = pd.get_dummies(charity2_df)\n",
    "charity3_df.shape"
   ]
  },
  {
   "cell_type": "code",
   "execution_count": 37,
   "metadata": {
    "id": "rJdroEvFcnvo"
   },
   "outputs": [],
   "source": [
    "# Split our preprocessed data into our features and target arrays\n",
    "\n",
    "y = charity3_df['IS_SUCCESSFUL'].values\n",
    "X = charity3_df.drop(['IS_SUCCESSFUL'], 1).values\n",
    "\n",
    "# Split the preprocessed data into a training and testing dataset\n",
    "\n",
    "X_train, X_test, y_train, y_test = train_test_split(X, y, random_state=42)"
   ]
  },
  {
   "cell_type": "code",
   "execution_count": 38,
   "metadata": {
    "id": "4g0in-Qscnvo"
   },
   "outputs": [
    {
     "data": {
      "text/plain": [
       "44"
      ]
     },
     "execution_count": 38,
     "metadata": {},
     "output_type": "execute_result"
    }
   ],
   "source": [
    "# Create a StandardScaler instances\n",
    "scaler = StandardScaler()\n",
    "\n",
    "# Fit the StandardScaler\n",
    "X_scaler = scaler.fit(X_train)\n",
    "\n",
    "# Scale the data\n",
    "X_train_scaled = X_scaler.transform(X_train)\n",
    "X_test_scaled = X_scaler.transform(X_test)\n",
    "\n",
    "len(X_train[0])"
   ]
  },
  {
   "cell_type": "markdown",
   "metadata": {
    "id": "fabODgRscnvp"
   },
   "source": [
    "## Compile, Train and Evaluate the Model"
   ]
  },
  {
   "cell_type": "code",
   "execution_count": 39,
   "metadata": {
    "id": "GQ7yS0jMcnvp",
    "outputId": "0312710f-3bdf-4b53-a550-2a5b141d57f2"
   },
   "outputs": [
    {
     "name": "stdout",
     "output_type": "stream",
     "text": [
      "Model: \"sequential_12\"\n",
      "_________________________________________________________________\n",
      " Layer (type)                Output Shape              Param #   \n",
      "=================================================================\n",
      " dense_36 (Dense)            (None, 22)                990       \n",
      "                                                                 \n",
      " dense_37 (Dense)            (None, 11)                253       \n",
      "                                                                 \n",
      " dense_38 (Dense)            (None, 1)                 12        \n",
      "                                                                 \n",
      "=================================================================\n",
      "Total params: 1,255\n",
      "Trainable params: 1,255\n",
      "Non-trainable params: 0\n",
      "_________________________________________________________________\n"
     ]
    }
   ],
   "source": [
    "# Define the model - deep neural net, i.e., the number of input features and hidden nodes for each layer.\n",
    "\n",
    "number_input_features = len(X_train[0])\n",
    "hidden_nodes_layer1 =  22\n",
    "hidden_nodes_layer2 = 11\n",
    "\n",
    "nn = tf.keras.models.Sequential()\n",
    "\n",
    "# First hidden layer\n",
    "nn.add(tf.keras.layers.Dense(units=hidden_nodes_layer1, input_dim=number_input_features, activation=\"relu\"))\n",
    "\n",
    "# Second hidden layer\n",
    "nn.add(tf.keras.layers.Dense(units=hidden_nodes_layer2, activation=\"relu\"))\n",
    "\n",
    "# Output layer\n",
    "nn.add(tf.keras.layers.Dense(units=1, activation=\"sigmoid\"))\n",
    "\n",
    "# Check the structure of the model\n",
    "nn.summary()"
   ]
  },
  {
   "cell_type": "code",
   "execution_count": 40,
   "metadata": {
    "id": "OtNIIoDjcnvp",
    "outputId": "60a64e99-2ec1-4763-bcf9-b353a5f37477"
   },
   "outputs": [],
   "source": [
    "# Compile the model\n",
    "\n",
    "nn.compile(loss=\"binary_crossentropy\", optimizer=\"adam\", metrics=[\"accuracy\"])"
   ]
  },
  {
   "cell_type": "code",
   "execution_count": 41,
   "metadata": {
    "id": "bxKt1rAGcnvq",
    "outputId": "8ed7e7ae-4140-4e12-f949-4f553eb87c22"
   },
   "outputs": [
    {
     "name": "stdout",
     "output_type": "stream",
     "text": [
      "Epoch 1/100\n",
      "804/804 - 1s - loss: 0.5829 - accuracy: 0.7117 - 592ms/epoch - 736us/step\n",
      "Epoch 2/100\n",
      "804/804 - 0s - loss: 0.5557 - accuracy: 0.7291 - 387ms/epoch - 481us/step\n",
      "Epoch 3/100\n",
      "804/804 - 0s - loss: 0.5524 - accuracy: 0.7299 - 389ms/epoch - 483us/step\n",
      "Epoch 4/100\n",
      "804/804 - 0s - loss: 0.5506 - accuracy: 0.7297 - 386ms/epoch - 480us/step\n",
      "Epoch 5/100\n",
      "804/804 - 0s - loss: 0.5495 - accuracy: 0.7308 - 392ms/epoch - 487us/step\n",
      "Epoch 6/100\n",
      "804/804 - 0s - loss: 0.5488 - accuracy: 0.7317 - 386ms/epoch - 480us/step\n",
      "Epoch 7/100\n",
      "804/804 - 0s - loss: 0.5479 - accuracy: 0.7326 - 395ms/epoch - 491us/step\n",
      "Epoch 8/100\n",
      "804/804 - 0s - loss: 0.5469 - accuracy: 0.7324 - 388ms/epoch - 483us/step\n",
      "Epoch 9/100\n",
      "804/804 - 0s - loss: 0.5468 - accuracy: 0.7334 - 386ms/epoch - 480us/step\n",
      "Epoch 10/100\n",
      "804/804 - 0s - loss: 0.5462 - accuracy: 0.7329 - 413ms/epoch - 514us/step\n",
      "Epoch 11/100\n",
      "804/804 - 0s - loss: 0.5459 - accuracy: 0.7341 - 410ms/epoch - 511us/step\n",
      "Epoch 12/100\n",
      "804/804 - 0s - loss: 0.5451 - accuracy: 0.7342 - 426ms/epoch - 530us/step\n",
      "Epoch 13/100\n",
      "804/804 - 0s - loss: 0.5452 - accuracy: 0.7335 - 410ms/epoch - 510us/step\n",
      "Epoch 14/100\n",
      "804/804 - 0s - loss: 0.5446 - accuracy: 0.7332 - 387ms/epoch - 482us/step\n",
      "Epoch 15/100\n",
      "804/804 - 0s - loss: 0.5440 - accuracy: 0.7333 - 388ms/epoch - 482us/step\n",
      "Epoch 16/100\n",
      "804/804 - 0s - loss: 0.5448 - accuracy: 0.7339 - 406ms/epoch - 505us/step\n",
      "Epoch 17/100\n",
      "804/804 - 0s - loss: 0.5441 - accuracy: 0.7345 - 409ms/epoch - 509us/step\n",
      "Epoch 18/100\n",
      "804/804 - 0s - loss: 0.5435 - accuracy: 0.7338 - 408ms/epoch - 508us/step\n",
      "Epoch 19/100\n",
      "804/804 - 0s - loss: 0.5432 - accuracy: 0.7348 - 397ms/epoch - 493us/step\n",
      "Epoch 20/100\n",
      "804/804 - 0s - loss: 0.5434 - accuracy: 0.7344 - 384ms/epoch - 477us/step\n",
      "Epoch 21/100\n",
      "804/804 - 0s - loss: 0.5433 - accuracy: 0.7357 - 383ms/epoch - 477us/step\n",
      "Epoch 22/100\n",
      "804/804 - 0s - loss: 0.5431 - accuracy: 0.7348 - 382ms/epoch - 476us/step\n",
      "Epoch 23/100\n",
      "804/804 - 0s - loss: 0.5425 - accuracy: 0.7344 - 382ms/epoch - 475us/step\n",
      "Epoch 24/100\n",
      "804/804 - 0s - loss: 0.5422 - accuracy: 0.7350 - 384ms/epoch - 477us/step\n",
      "Epoch 25/100\n",
      "804/804 - 0s - loss: 0.5423 - accuracy: 0.7353 - 386ms/epoch - 480us/step\n",
      "Epoch 26/100\n",
      "804/804 - 0s - loss: 0.5420 - accuracy: 0.7355 - 380ms/epoch - 473us/step\n",
      "Epoch 27/100\n",
      "804/804 - 0s - loss: 0.5417 - accuracy: 0.7350 - 382ms/epoch - 475us/step\n",
      "Epoch 28/100\n",
      "804/804 - 0s - loss: 0.5418 - accuracy: 0.7360 - 384ms/epoch - 478us/step\n",
      "Epoch 29/100\n",
      "804/804 - 0s - loss: 0.5418 - accuracy: 0.7358 - 381ms/epoch - 474us/step\n",
      "Epoch 30/100\n",
      "804/804 - 0s - loss: 0.5413 - accuracy: 0.7357 - 393ms/epoch - 489us/step\n",
      "Epoch 31/100\n",
      "804/804 - 0s - loss: 0.5411 - accuracy: 0.7358 - 379ms/epoch - 472us/step\n",
      "Epoch 32/100\n",
      "804/804 - 0s - loss: 0.5410 - accuracy: 0.7360 - 382ms/epoch - 475us/step\n",
      "Epoch 33/100\n",
      "804/804 - 0s - loss: 0.5408 - accuracy: 0.7349 - 383ms/epoch - 477us/step\n",
      "Epoch 34/100\n",
      "804/804 - 0s - loss: 0.5401 - accuracy: 0.7358 - 385ms/epoch - 479us/step\n",
      "Epoch 35/100\n",
      "804/804 - 0s - loss: 0.5407 - accuracy: 0.7362 - 380ms/epoch - 473us/step\n",
      "Epoch 36/100\n",
      "804/804 - 0s - loss: 0.5407 - accuracy: 0.7356 - 385ms/epoch - 479us/step\n",
      "Epoch 37/100\n",
      "804/804 - 0s - loss: 0.5403 - accuracy: 0.7371 - 382ms/epoch - 475us/step\n",
      "Epoch 38/100\n",
      "804/804 - 0s - loss: 0.5401 - accuracy: 0.7362 - 381ms/epoch - 474us/step\n",
      "Epoch 39/100\n",
      "804/804 - 0s - loss: 0.5403 - accuracy: 0.7361 - 382ms/epoch - 475us/step\n",
      "Epoch 40/100\n",
      "804/804 - 0s - loss: 0.5401 - accuracy: 0.7364 - 383ms/epoch - 476us/step\n",
      "Epoch 41/100\n",
      "804/804 - 0s - loss: 0.5402 - accuracy: 0.7359 - 386ms/epoch - 480us/step\n",
      "Epoch 42/100\n",
      "804/804 - 0s - loss: 0.5398 - accuracy: 0.7355 - 380ms/epoch - 472us/step\n",
      "Epoch 43/100\n",
      "804/804 - 0s - loss: 0.5400 - accuracy: 0.7355 - 381ms/epoch - 474us/step\n",
      "Epoch 44/100\n",
      "804/804 - 0s - loss: 0.5395 - accuracy: 0.7362 - 385ms/epoch - 479us/step\n",
      "Epoch 45/100\n",
      "804/804 - 0s - loss: 0.5393 - accuracy: 0.7367 - 382ms/epoch - 475us/step\n",
      "Epoch 46/100\n",
      "804/804 - 0s - loss: 0.5395 - accuracy: 0.7362 - 385ms/epoch - 479us/step\n",
      "Epoch 47/100\n",
      "804/804 - 0s - loss: 0.5393 - accuracy: 0.7372 - 379ms/epoch - 472us/step\n",
      "Epoch 48/100\n",
      "804/804 - 0s - loss: 0.5392 - accuracy: 0.7375 - 380ms/epoch - 473us/step\n",
      "Epoch 49/100\n",
      "804/804 - 0s - loss: 0.5393 - accuracy: 0.7359 - 384ms/epoch - 478us/step\n",
      "Epoch 50/100\n",
      "804/804 - 0s - loss: 0.5391 - accuracy: 0.7362 - 380ms/epoch - 473us/step\n",
      "Epoch 51/100\n",
      "804/804 - 0s - loss: 0.5390 - accuracy: 0.7369 - 382ms/epoch - 476us/step\n",
      "Epoch 52/100\n",
      "804/804 - 0s - loss: 0.5391 - accuracy: 0.7362 - 381ms/epoch - 474us/step\n",
      "Epoch 53/100\n",
      "804/804 - 0s - loss: 0.5393 - accuracy: 0.7365 - 385ms/epoch - 479us/step\n",
      "Epoch 54/100\n",
      "804/804 - 0s - loss: 0.5391 - accuracy: 0.7365 - 377ms/epoch - 469us/step\n",
      "Epoch 55/100\n",
      "804/804 - 0s - loss: 0.5389 - accuracy: 0.7364 - 379ms/epoch - 471us/step\n",
      "Epoch 56/100\n",
      "804/804 - 0s - loss: 0.5388 - accuracy: 0.7355 - 383ms/epoch - 476us/step\n",
      "Epoch 57/100\n",
      "804/804 - 0s - loss: 0.5392 - accuracy: 0.7363 - 378ms/epoch - 471us/step\n",
      "Epoch 58/100\n",
      "804/804 - 0s - loss: 0.5386 - accuracy: 0.7363 - 377ms/epoch - 469us/step\n",
      "Epoch 59/100\n",
      "804/804 - 0s - loss: 0.5386 - accuracy: 0.7365 - 378ms/epoch - 470us/step\n",
      "Epoch 60/100\n",
      "804/804 - 0s - loss: 0.5386 - accuracy: 0.7362 - 395ms/epoch - 491us/step\n",
      "Epoch 61/100\n",
      "804/804 - 0s - loss: 0.5386 - accuracy: 0.7364 - 394ms/epoch - 490us/step\n",
      "Epoch 62/100\n",
      "804/804 - 0s - loss: 0.5386 - accuracy: 0.7369 - 381ms/epoch - 474us/step\n",
      "Epoch 63/100\n",
      "804/804 - 0s - loss: 0.5384 - accuracy: 0.7382 - 385ms/epoch - 479us/step\n",
      "Epoch 64/100\n",
      "804/804 - 0s - loss: 0.5381 - accuracy: 0.7381 - 387ms/epoch - 481us/step\n",
      "Epoch 65/100\n",
      "804/804 - 0s - loss: 0.5381 - accuracy: 0.7366 - 382ms/epoch - 475us/step\n",
      "Epoch 66/100\n",
      "804/804 - 0s - loss: 0.5385 - accuracy: 0.7371 - 383ms/epoch - 476us/step\n",
      "Epoch 67/100\n",
      "804/804 - 0s - loss: 0.5383 - accuracy: 0.7368 - 386ms/epoch - 480us/step\n",
      "Epoch 68/100\n",
      "804/804 - 0s - loss: 0.5380 - accuracy: 0.7370 - 381ms/epoch - 474us/step\n",
      "Epoch 69/100\n",
      "804/804 - 0s - loss: 0.5379 - accuracy: 0.7369 - 386ms/epoch - 480us/step\n",
      "Epoch 70/100\n",
      "804/804 - 0s - loss: 0.5383 - accuracy: 0.7376 - 389ms/epoch - 484us/step\n",
      "Epoch 71/100\n",
      "804/804 - 0s - loss: 0.5383 - accuracy: 0.7371 - 383ms/epoch - 476us/step\n",
      "Epoch 72/100\n",
      "804/804 - 0s - loss: 0.5380 - accuracy: 0.7371 - 383ms/epoch - 476us/step\n",
      "Epoch 73/100\n",
      "804/804 - 0s - loss: 0.5380 - accuracy: 0.7367 - 383ms/epoch - 476us/step\n",
      "Epoch 74/100\n",
      "804/804 - 0s - loss: 0.5376 - accuracy: 0.7379 - 382ms/epoch - 475us/step\n",
      "Epoch 75/100\n",
      "804/804 - 0s - loss: 0.5378 - accuracy: 0.7367 - 384ms/epoch - 478us/step\n",
      "Epoch 76/100\n",
      "804/804 - 0s - loss: 0.5382 - accuracy: 0.7369 - 386ms/epoch - 480us/step\n",
      "Epoch 77/100\n",
      "804/804 - 0s - loss: 0.5380 - accuracy: 0.7372 - 392ms/epoch - 488us/step\n",
      "Epoch 78/100\n",
      "804/804 - 0s - loss: 0.5380 - accuracy: 0.7372 - 384ms/epoch - 478us/step\n",
      "Epoch 79/100\n",
      "804/804 - 0s - loss: 0.5374 - accuracy: 0.7376 - 385ms/epoch - 478us/step\n",
      "Epoch 80/100\n",
      "804/804 - 0s - loss: 0.5377 - accuracy: 0.7374 - 389ms/epoch - 483us/step\n",
      "Epoch 81/100\n",
      "804/804 - 0s - loss: 0.5378 - accuracy: 0.7367 - 386ms/epoch - 480us/step\n",
      "Epoch 82/100\n",
      "804/804 - 0s - loss: 0.5376 - accuracy: 0.7375 - 402ms/epoch - 500us/step\n",
      "Epoch 83/100\n",
      "804/804 - 0s - loss: 0.5374 - accuracy: 0.7382 - 387ms/epoch - 481us/step\n",
      "Epoch 84/100\n",
      "804/804 - 0s - loss: 0.5371 - accuracy: 0.7370 - 389ms/epoch - 484us/step\n",
      "Epoch 85/100\n",
      "804/804 - 0s - loss: 0.5377 - accuracy: 0.7386 - 387ms/epoch - 481us/step\n",
      "Epoch 86/100\n",
      "804/804 - 0s - loss: 0.5372 - accuracy: 0.7373 - 395ms/epoch - 491us/step\n",
      "Epoch 87/100\n",
      "804/804 - 0s - loss: 0.5376 - accuracy: 0.7372 - 391ms/epoch - 487us/step\n",
      "Epoch 88/100\n",
      "804/804 - 0s - loss: 0.5375 - accuracy: 0.7373 - 414ms/epoch - 515us/step\n",
      "Epoch 89/100\n",
      "804/804 - 0s - loss: 0.5373 - accuracy: 0.7370 - 416ms/epoch - 517us/step\n",
      "Epoch 90/100\n",
      "804/804 - 0s - loss: 0.5373 - accuracy: 0.7367 - 420ms/epoch - 523us/step\n",
      "Epoch 91/100\n",
      "804/804 - 0s - loss: 0.5373 - accuracy: 0.7378 - 433ms/epoch - 539us/step\n",
      "Epoch 92/100\n",
      "804/804 - 0s - loss: 0.5372 - accuracy: 0.7374 - 411ms/epoch - 511us/step\n",
      "Epoch 93/100\n",
      "804/804 - 0s - loss: 0.5371 - accuracy: 0.7379 - 408ms/epoch - 508us/step\n",
      "Epoch 94/100\n",
      "804/804 - 0s - loss: 0.5372 - accuracy: 0.7376 - 395ms/epoch - 492us/step\n",
      "Epoch 95/100\n",
      "804/804 - 0s - loss: 0.5371 - accuracy: 0.7380 - 399ms/epoch - 497us/step\n"
     ]
    },
    {
     "name": "stdout",
     "output_type": "stream",
     "text": [
      "Epoch 96/100\n",
      "804/804 - 0s - loss: 0.5372 - accuracy: 0.7380 - 393ms/epoch - 489us/step\n",
      "Epoch 97/100\n",
      "804/804 - 0s - loss: 0.5371 - accuracy: 0.7382 - 405ms/epoch - 504us/step\n",
      "Epoch 98/100\n",
      "804/804 - 0s - loss: 0.5370 - accuracy: 0.7380 - 404ms/epoch - 503us/step\n",
      "Epoch 99/100\n",
      "804/804 - 0s - loss: 0.5370 - accuracy: 0.7383 - 404ms/epoch - 503us/step\n",
      "Epoch 100/100\n",
      "804/804 - 0s - loss: 0.5369 - accuracy: 0.7381 - 414ms/epoch - 515us/step\n"
     ]
    }
   ],
   "source": [
    "# Train the model\n",
    "\n",
    "fit_model = nn.fit(X_train_scaled,y_train,epochs=100, verbose=2)"
   ]
  },
  {
   "cell_type": "code",
   "execution_count": 42,
   "metadata": {
    "id": "8yc1aQ9xcnvq",
    "outputId": "4a286830-8608-491a-da5f-4f563e20ddf1"
   },
   "outputs": [
    {
     "name": "stdout",
     "output_type": "stream",
     "text": [
      "268/268 - 0s - loss: 0.5540 - accuracy: 0.7243 - 155ms/epoch - 579us/step\n",
      "Loss: 55.4%, Accuracy: 72.4%\n"
     ]
    }
   ],
   "source": [
    "# Evaluate the model using the test data\n",
    "\n",
    "model_loss, model_accuracy = nn.evaluate(X_test_scaled,y_test,verbose=2)\n",
    "print(f\"Loss: {model_loss*100:2.1f}%, Accuracy: {model_accuracy*100:2.1f}%\")"
   ]
  },
  {
   "cell_type": "code",
   "execution_count": 44,
   "metadata": {
    "id": "IOY1j8wgcnvr"
   },
   "outputs": [],
   "source": [
    "# Export our model to HDF5 file\n",
    "\n",
    "nn.save(\"AlphabetSoupCharity.h5\")"
   ]
  },
  {
   "cell_type": "code",
   "execution_count": 45,
   "metadata": {},
   "outputs": [
    {
     "name": "stdout",
     "output_type": "stream",
     "text": [
      "268/268 - 0s - loss: 0.5672 - accuracy: 0.7301 - 162ms/epoch - 604us/step\n",
      "Nodes: (160, 80), Loss: 56.7%, Accuracy: 73.0%\n",
      "268/268 - 0s - loss: 0.5663 - accuracy: 0.7317 - 185ms/epoch - 690us/step\n",
      "Nodes: (120, 60), Loss: 56.6%, Accuracy: 73.2%\n",
      "268/268 - 0s - loss: 0.5686 - accuracy: 0.7266 - 188ms/epoch - 703us/step\n",
      "Nodes: (100, 50), Loss: 56.9%, Accuracy: 72.7%\n",
      "268/268 - 0s - loss: 0.5605 - accuracy: 0.7318 - 192ms/epoch - 715us/step\n",
      "Nodes: (80, 40), Loss: 56.1%, Accuracy: 73.2%\n",
      "268/268 - 0s - loss: 0.5581 - accuracy: 0.7279 - 197ms/epoch - 735us/step\n",
      "Nodes: (60, 30), Loss: 55.8%, Accuracy: 72.8%\n",
      "268/268 - 0s - loss: 0.5554 - accuracy: 0.7292 - 190ms/epoch - 708us/step\n",
      "Nodes: (40, 20), Loss: 55.5%, Accuracy: 72.9%\n",
      "268/268 - 0s - loss: 0.5536 - accuracy: 0.7287 - 186ms/epoch - 696us/step\n",
      "Nodes: (20, 10), Loss: 55.4%, Accuracy: 72.9%\n"
     ]
    }
   ],
   "source": [
    "# Evaluate differect node sizes\n",
    "\n",
    "number_input_features = len(X_train[0])\n",
    "\n",
    "node_counts = [(160, 80), (120, 60), (100, 50), (80, 40), (60, 30), (40, 20), (20, 10)]\n",
    "\n",
    "for i in node_counts:\n",
    "    \n",
    "    # Define the model\n",
    "    hidden_nodes_layer1 =  i[0]\n",
    "    hidden_nodes_layer2 = i[1]\n",
    "\n",
    "    nn = tf.keras.models.Sequential()\n",
    "\n",
    "    # First hidden layer\n",
    "    nn.add(tf.keras.layers.Dense(units=hidden_nodes_layer1, input_dim=number_input_features, activation=\"relu\"))\n",
    "\n",
    "    # Second hidden layer\n",
    "    nn.add(tf.keras.layers.Dense(units=hidden_nodes_layer2, activation=\"relu\"))\n",
    "\n",
    "    # Output layer\n",
    "    nn.add(tf.keras.layers.Dense(units=1, activation=\"sigmoid\"))\n",
    "\n",
    "    # Compile the model\n",
    "    nn.compile(loss=\"binary_crossentropy\", optimizer=\"adam\", metrics=[\"accuracy\"])\n",
    "\n",
    "    # Train the model\n",
    "    fit_model = nn.fit(X_train_scaled,y_train,epochs=100, verbose=0)\n",
    "\n",
    "    # Evaluate the model using the test data\n",
    "    model_loss, model_accuracy = nn.evaluate(X_test_scaled,y_test,verbose=2)\n",
    "    print(f\"Nodes: {i}, Loss: {model_loss*100:2.1f}%, Accuracy: {model_accuracy*100:2.1f}%\")"
   ]
  },
  {
   "cell_type": "code",
   "execution_count": null,
   "metadata": {},
   "outputs": [],
   "source": []
  }
 ],
 "metadata": {
  "colab": {
   "name": "Part 1 and 2 - Starter_Code.ipynb",
   "provenance": []
  },
  "kernelspec": {
   "display_name": "Python 3",
   "language": "python",
   "name": "python3"
  },
  "language_info": {
   "codemirror_mode": {
    "name": "ipython",
    "version": 3
   },
   "file_extension": ".py",
   "mimetype": "text/x-python",
   "name": "python",
   "nbconvert_exporter": "python",
   "pygments_lexer": "ipython3",
   "version": "3.8.8"
  }
 },
 "nbformat": 4,
 "nbformat_minor": 1
}
