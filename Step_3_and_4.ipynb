{
 "cells": [
  {
   "cell_type": "markdown",
   "metadata": {
    "id": "1CRGkVUOcnvc"
   },
   "source": [
    "## Optimize the Model\n"
   ]
  },
  {
   "cell_type": "code",
   "execution_count": 1,
   "metadata": {
    "colab": {
     "base_uri": "https://localhost:8080/",
     "height": 371
    },
    "id": "BLhcSleWcnvg",
    "outputId": "684d65ef-ac43-478f-da0f-79b69f1789f6"
   },
   "outputs": [
    {
     "data": {
      "text/html": [
       "<div>\n",
       "<style scoped>\n",
       "    .dataframe tbody tr th:only-of-type {\n",
       "        vertical-align: middle;\n",
       "    }\n",
       "\n",
       "    .dataframe tbody tr th {\n",
       "        vertical-align: top;\n",
       "    }\n",
       "\n",
       "    .dataframe thead th {\n",
       "        text-align: right;\n",
       "    }\n",
       "</style>\n",
       "<table border=\"1\" class=\"dataframe\">\n",
       "  <thead>\n",
       "    <tr style=\"text-align: right;\">\n",
       "      <th></th>\n",
       "      <th>EIN</th>\n",
       "      <th>NAME</th>\n",
       "      <th>APPLICATION_TYPE</th>\n",
       "      <th>AFFILIATION</th>\n",
       "      <th>CLASSIFICATION</th>\n",
       "      <th>USE_CASE</th>\n",
       "      <th>ORGANIZATION</th>\n",
       "      <th>STATUS</th>\n",
       "      <th>INCOME_AMT</th>\n",
       "      <th>SPECIAL_CONSIDERATIONS</th>\n",
       "      <th>ASK_AMT</th>\n",
       "      <th>IS_SUCCESSFUL</th>\n",
       "    </tr>\n",
       "  </thead>\n",
       "  <tbody>\n",
       "    <tr>\n",
       "      <th>0</th>\n",
       "      <td>10520599</td>\n",
       "      <td>BLUE KNIGHTS MOTORCYCLE CLUB</td>\n",
       "      <td>T10</td>\n",
       "      <td>Independent</td>\n",
       "      <td>C1000</td>\n",
       "      <td>ProductDev</td>\n",
       "      <td>Association</td>\n",
       "      <td>1</td>\n",
       "      <td>0</td>\n",
       "      <td>N</td>\n",
       "      <td>5000</td>\n",
       "      <td>1</td>\n",
       "    </tr>\n",
       "    <tr>\n",
       "      <th>1</th>\n",
       "      <td>10531628</td>\n",
       "      <td>AMERICAN CHESAPEAKE CLUB CHARITABLE TR</td>\n",
       "      <td>T3</td>\n",
       "      <td>Independent</td>\n",
       "      <td>C2000</td>\n",
       "      <td>Preservation</td>\n",
       "      <td>Co-operative</td>\n",
       "      <td>1</td>\n",
       "      <td>1-9999</td>\n",
       "      <td>N</td>\n",
       "      <td>108590</td>\n",
       "      <td>1</td>\n",
       "    </tr>\n",
       "    <tr>\n",
       "      <th>2</th>\n",
       "      <td>10547893</td>\n",
       "      <td>ST CLOUD PROFESSIONAL FIREFIGHTERS</td>\n",
       "      <td>T5</td>\n",
       "      <td>CompanySponsored</td>\n",
       "      <td>C3000</td>\n",
       "      <td>ProductDev</td>\n",
       "      <td>Association</td>\n",
       "      <td>1</td>\n",
       "      <td>0</td>\n",
       "      <td>N</td>\n",
       "      <td>5000</td>\n",
       "      <td>0</td>\n",
       "    </tr>\n",
       "    <tr>\n",
       "      <th>3</th>\n",
       "      <td>10553066</td>\n",
       "      <td>SOUTHSIDE ATHLETIC ASSOCIATION</td>\n",
       "      <td>T3</td>\n",
       "      <td>CompanySponsored</td>\n",
       "      <td>C2000</td>\n",
       "      <td>Preservation</td>\n",
       "      <td>Trust</td>\n",
       "      <td>1</td>\n",
       "      <td>10000-24999</td>\n",
       "      <td>N</td>\n",
       "      <td>6692</td>\n",
       "      <td>1</td>\n",
       "    </tr>\n",
       "    <tr>\n",
       "      <th>4</th>\n",
       "      <td>10556103</td>\n",
       "      <td>GENETIC RESEARCH INSTITUTE OF THE DESERT</td>\n",
       "      <td>T3</td>\n",
       "      <td>Independent</td>\n",
       "      <td>C1000</td>\n",
       "      <td>Heathcare</td>\n",
       "      <td>Trust</td>\n",
       "      <td>1</td>\n",
       "      <td>100000-499999</td>\n",
       "      <td>N</td>\n",
       "      <td>142590</td>\n",
       "      <td>1</td>\n",
       "    </tr>\n",
       "  </tbody>\n",
       "</table>\n",
       "</div>"
      ],
      "text/plain": [
       "        EIN                                      NAME APPLICATION_TYPE  \\\n",
       "0  10520599              BLUE KNIGHTS MOTORCYCLE CLUB              T10   \n",
       "1  10531628    AMERICAN CHESAPEAKE CLUB CHARITABLE TR               T3   \n",
       "2  10547893        ST CLOUD PROFESSIONAL FIREFIGHTERS               T5   \n",
       "3  10553066            SOUTHSIDE ATHLETIC ASSOCIATION               T3   \n",
       "4  10556103  GENETIC RESEARCH INSTITUTE OF THE DESERT               T3   \n",
       "\n",
       "        AFFILIATION CLASSIFICATION      USE_CASE  ORGANIZATION  STATUS  \\\n",
       "0       Independent          C1000    ProductDev   Association       1   \n",
       "1       Independent          C2000  Preservation  Co-operative       1   \n",
       "2  CompanySponsored          C3000    ProductDev   Association       1   \n",
       "3  CompanySponsored          C2000  Preservation         Trust       1   \n",
       "4       Independent          C1000     Heathcare         Trust       1   \n",
       "\n",
       "      INCOME_AMT SPECIAL_CONSIDERATIONS  ASK_AMT  IS_SUCCESSFUL  \n",
       "0              0                      N     5000              1  \n",
       "1         1-9999                      N   108590              1  \n",
       "2              0                      N     5000              0  \n",
       "3    10000-24999                      N     6692              1  \n",
       "4  100000-499999                      N   142590              1  "
      ]
     },
     "execution_count": 1,
     "metadata": {},
     "output_type": "execute_result"
    }
   ],
   "source": [
    "# Import our dependencies\n",
    "from sklearn.model_selection import train_test_split\n",
    "from sklearn.preprocessing import StandardScaler\n",
    "import pandas as pd\n",
    "import tensorflow as tf\n",
    "\n",
    "#  Import and read the charity_data.csv.\n",
    "import pandas as pd \n",
    "\n",
    "charity1_df = pd.read_csv(\"Resources/charity_data.csv\")\n",
    "charity1_df.head()"
   ]
  },
  {
   "cell_type": "code",
   "execution_count": 27,
   "metadata": {
    "colab": {
     "base_uri": "https://localhost:8080/"
    },
    "id": "4ZvOdqJvejyI",
    "outputId": "4628461b-12a1-45d9-826b-26f8a2f45fcb"
   },
   "outputs": [
    {
     "data": {
      "text/html": [
       "<div>\n",
       "<style scoped>\n",
       "    .dataframe tbody tr th:only-of-type {\n",
       "        vertical-align: middle;\n",
       "    }\n",
       "\n",
       "    .dataframe tbody tr th {\n",
       "        vertical-align: top;\n",
       "    }\n",
       "\n",
       "    .dataframe thead th {\n",
       "        text-align: right;\n",
       "    }\n",
       "</style>\n",
       "<table border=\"1\" class=\"dataframe\">\n",
       "  <thead>\n",
       "    <tr style=\"text-align: right;\">\n",
       "      <th></th>\n",
       "      <th>NAME</th>\n",
       "      <th>APPLICATION_TYPE</th>\n",
       "      <th>AFFILIATION</th>\n",
       "      <th>CLASSIFICATION</th>\n",
       "      <th>USE_CASE</th>\n",
       "      <th>ORGANIZATION</th>\n",
       "      <th>STATUS</th>\n",
       "      <th>INCOME_AMT</th>\n",
       "      <th>SPECIAL_CONSIDERATIONS</th>\n",
       "      <th>ASK_AMT</th>\n",
       "      <th>IS_SUCCESSFUL</th>\n",
       "    </tr>\n",
       "  </thead>\n",
       "  <tbody>\n",
       "    <tr>\n",
       "      <th>0</th>\n",
       "      <td>BLUE KNIGHTS MOTORCYCLE CLUB</td>\n",
       "      <td>T10</td>\n",
       "      <td>Independent</td>\n",
       "      <td>C1000</td>\n",
       "      <td>ProductDev</td>\n",
       "      <td>Association</td>\n",
       "      <td>1</td>\n",
       "      <td>0</td>\n",
       "      <td>N</td>\n",
       "      <td>5000</td>\n",
       "      <td>1</td>\n",
       "    </tr>\n",
       "    <tr>\n",
       "      <th>1</th>\n",
       "      <td>AMERICAN CHESAPEAKE CLUB CHARITABLE TR</td>\n",
       "      <td>T3</td>\n",
       "      <td>Independent</td>\n",
       "      <td>C2000</td>\n",
       "      <td>Preservation</td>\n",
       "      <td>Co-operative</td>\n",
       "      <td>1</td>\n",
       "      <td>1-9999</td>\n",
       "      <td>N</td>\n",
       "      <td>108590</td>\n",
       "      <td>1</td>\n",
       "    </tr>\n",
       "    <tr>\n",
       "      <th>2</th>\n",
       "      <td>ST CLOUD PROFESSIONAL FIREFIGHTERS</td>\n",
       "      <td>T5</td>\n",
       "      <td>CompanySponsored</td>\n",
       "      <td>C3000</td>\n",
       "      <td>ProductDev</td>\n",
       "      <td>Association</td>\n",
       "      <td>1</td>\n",
       "      <td>0</td>\n",
       "      <td>N</td>\n",
       "      <td>5000</td>\n",
       "      <td>0</td>\n",
       "    </tr>\n",
       "    <tr>\n",
       "      <th>3</th>\n",
       "      <td>SOUTHSIDE ATHLETIC ASSOCIATION</td>\n",
       "      <td>T3</td>\n",
       "      <td>CompanySponsored</td>\n",
       "      <td>C2000</td>\n",
       "      <td>Preservation</td>\n",
       "      <td>Trust</td>\n",
       "      <td>1</td>\n",
       "      <td>10000-24999</td>\n",
       "      <td>N</td>\n",
       "      <td>6692</td>\n",
       "      <td>1</td>\n",
       "    </tr>\n",
       "    <tr>\n",
       "      <th>4</th>\n",
       "      <td>GENETIC RESEARCH INSTITUTE OF THE DESERT</td>\n",
       "      <td>T3</td>\n",
       "      <td>Independent</td>\n",
       "      <td>C1000</td>\n",
       "      <td>Heathcare</td>\n",
       "      <td>Trust</td>\n",
       "      <td>1</td>\n",
       "      <td>100000-499999</td>\n",
       "      <td>N</td>\n",
       "      <td>142590</td>\n",
       "      <td>1</td>\n",
       "    </tr>\n",
       "  </tbody>\n",
       "</table>\n",
       "</div>"
      ],
      "text/plain": [
       "                                       NAME APPLICATION_TYPE  \\\n",
       "0              BLUE KNIGHTS MOTORCYCLE CLUB              T10   \n",
       "1    AMERICAN CHESAPEAKE CLUB CHARITABLE TR               T3   \n",
       "2        ST CLOUD PROFESSIONAL FIREFIGHTERS               T5   \n",
       "3            SOUTHSIDE ATHLETIC ASSOCIATION               T3   \n",
       "4  GENETIC RESEARCH INSTITUTE OF THE DESERT               T3   \n",
       "\n",
       "        AFFILIATION CLASSIFICATION      USE_CASE  ORGANIZATION  STATUS  \\\n",
       "0       Independent          C1000    ProductDev   Association       1   \n",
       "1       Independent          C2000  Preservation  Co-operative       1   \n",
       "2  CompanySponsored          C3000    ProductDev   Association       1   \n",
       "3  CompanySponsored          C2000  Preservation         Trust       1   \n",
       "4       Independent          C1000     Heathcare         Trust       1   \n",
       "\n",
       "      INCOME_AMT SPECIAL_CONSIDERATIONS  ASK_AMT  IS_SUCCESSFUL  \n",
       "0              0                      N     5000              1  \n",
       "1         1-9999                      N   108590              1  \n",
       "2              0                      N     5000              0  \n",
       "3    10000-24999                      N     6692              1  \n",
       "4  100000-499999                      N   142590              1  "
      ]
     },
     "execution_count": 27,
     "metadata": {},
     "output_type": "execute_result"
    }
   ],
   "source": [
    "# Drop the non-beneficial EIN column\n",
    "\n",
    "charity2_df = charity1_df.drop(['EIN'], axis=1, inplace=False)\n",
    "charity2_df.head()"
   ]
  },
  {
   "cell_type": "code",
   "execution_count": 28,
   "metadata": {
    "colab": {
     "base_uri": "https://localhost:8080/"
    },
    "id": "dLnmFB8deuH2",
    "outputId": "e62627ce-dc75-4b27-9b61-ce91847f8ef1"
   },
   "outputs": [
    {
     "name": "stdout",
     "output_type": "stream",
     "text": [
      "NAME 19568\n",
      "APPLICATION_TYPE 17\n",
      "AFFILIATION 6\n",
      "CLASSIFICATION 71\n",
      "USE_CASE 5\n",
      "ORGANIZATION 4\n",
      "STATUS 2\n",
      "INCOME_AMT 9\n",
      "SPECIAL_CONSIDERATIONS 2\n",
      "ASK_AMT 8747\n",
      "IS_SUCCESSFUL 2\n"
     ]
    }
   ],
   "source": [
    "# display the number of unique values\n",
    "\n",
    "for col in charity2_df.columns:\n",
    "    print(col, len(charity2_df[col].unique().tolist()))"
   ]
  },
  {
   "cell_type": "code",
   "execution_count": 29,
   "metadata": {
    "colab": {
     "base_uri": "https://localhost:8080/"
    },
    "id": "wSVFXH7WezZF",
    "outputId": "498e0ad2-fb95-4664-e1b8-61f24ce12e29"
   },
   "outputs": [
    {
     "data": {
      "text/plain": [
       "PARENT BOOSTER USA INC                                          1260\n",
       "TOPS CLUB INC                                                    765\n",
       "UNITED STATES BOWLING CONGRESS INC                               700\n",
       "WASHINGTON STATE UNIVERSITY                                      492\n",
       "AMATEUR ATHLETIC UNION OF THE UNITED STATES INC                  408\n",
       "                                                                ... \n",
       "RONALD MCDONALD HOUSE CHARITIES INC                                1\n",
       "WHARTON COUNTY STRAY PET OUTREACH TEAM                             1\n",
       "INTERNATIONAL COMMUNITY SCHOOLS INC                                1\n",
       "INTERNATIONAL HOSPITALITY INFORMATION TECHNOLOGY ASSOCIATION       1\n",
       "CHRISTUS SCHUMPERT MEDICAL CENTER                                  1\n",
       "Name: NAME, Length: 19568, dtype: int64"
      ]
     },
     "execution_count": 29,
     "metadata": {},
     "output_type": "execute_result"
    }
   ],
   "source": [
    "# Look at NAME value counts for binning\n",
    "\n",
    "name_types = charity2_df['NAME'].value_counts()\n",
    "name_types"
   ]
  },
  {
   "cell_type": "code",
   "execution_count": 26,
   "metadata": {},
   "outputs": [
    {
     "data": {
      "text/plain": [
       "PARENT BOOSTER USA INC                                                1260\n",
       "TOPS CLUB INC                                                          765\n",
       "UNITED STATES BOWLING CONGRESS INC                                     700\n",
       "WASHINGTON STATE UNIVERSITY                                            492\n",
       "AMATEUR ATHLETIC UNION OF THE UNITED STATES INC                        408\n",
       "PTA TEXAS CONGRESS                                                     368\n",
       "SOROPTIMIST INTERNATIONAL OF THE AMERICAS INC                          331\n",
       "ALPHA PHI SIGMA                                                        313\n",
       "TOASTMASTERS INTERNATIONAL                                             293\n",
       "MOST WORSHIPFUL STRINGER FREE AND ACCEPTED MASONS                      287\n",
       "LITTLE LEAGUE BASEBALL INC                                             277\n",
       "INTERNATIONAL ASSOCIATION OF LIONS CLUBS                               266\n",
       "MOMS CLUB                                                              210\n",
       "INTERNATIONAL ASSOCIATION OF SHEET METAL AIR RAIL & TRANSPORTATION     206\n",
       "AMERICAN ASSOCIATION OF UNIVERSITY WOMEN                               197\n",
       "FARMERS EDUCATIONAL AND COOPERATIVE UNION OF AMERICA                   166\n",
       "KNIGHTS OF COLUMBUS                                                    158\n",
       "HABITAT FOR HUMANITY INTERNATIONAL INC                                 154\n",
       "TENNESSEE ORDER OF THE EASTERN STAR                                    151\n",
       "VETERANS OF FOREIGN WARS OF THE UNITED STATES AUXILIARY                144\n",
       "PTA UTAH CONGRESS                                                      140\n",
       "THE UNITED STATES PONY CLUBS INC                                       136\n",
       "CIVITAN INTERNATIONAL                                                  131\n",
       "SIGMA BETA DELTA INC                                                   127\n",
       "HONOR SOCIETY OF PHI KAPPA PHI                                         107\n",
       "MONTANA 4-H FOUNDATION INC                                             107\n",
       "WASHINGTON STATE GRANGE                                                106\n",
       "UNIVERSITY OF WYOMING                                                  105\n",
       "DEMOLAY INTERNATIONAL                                                  104\n",
       "SERTOMA INC                                                            103\n",
       "AIR FORCE ASSOCIATION                                                   99\n",
       "WORKERS UNITED                                                          97\n",
       "GAMMA THETA UPSILON                                                     92\n",
       "INTERNATIONAL ASSOCIATION OF FIRE FIGHTERS                              91\n",
       "SOCIETY OF SAINT VINCENT DE PAUL COUNCIL OF LOS ANGELES                 87\n",
       "ROTARY INTERNATIONAL                                                    84\n",
       "CALIFORNIA GARDEN CLUBS INC                                             76\n",
       "SWEET ADELINES INTERNATIONAL                                            73\n",
       "DISABLED AMERICAN VETERANS                                              73\n",
       "KLEIN SUPPORT GROUPS INC                                                69\n",
       "CLEARCREEK I S D SUPPORT GROUPS                                         60\n",
       "VFW AUXILIARY DEPARTMENT OF OKLAHOMA INC                                58\n",
       "CISD EDUCATIONAL SUPPORT GROUPS INC                                     57\n",
       "DEPARTMENT OF KANSAS LADIES AUXILIARY TO THE VFW OF THE US INC          57\n",
       "SONS OF CONFEDERATE VETERANS INC                                        56\n",
       "SLOW FOOD USA INC                                                       55\n",
       "NATIONAL YOUNG MENS SERVICE LEAGUE                                      54\n",
       "LAMBDA THETA ALPHA                                                      52\n",
       "AMATEUR ATHLETIC UNION OF THE UNITED STATES                             52\n",
       "UNIVERSITY OF FLORIDA                                                   50\n",
       "UNITED FEDERATION OF DOLL CLUBS INC                                     50\n",
       "AMERICAN YOUTH FOOTBALL INC                                             49\n",
       "INTERNATIONAL MOUNTAIN BICYCLING ASSOCIATION - COLORADO                 46\n",
       "MUSIC TEACHERS NATIONAL ASSOCIATION INC                                 46\n",
       "AMERICAN ASSOCIATION OF UNIVERSITY WOMEN INC                            46\n",
       "Name: NAME, dtype: int64"
      ]
     },
     "execution_count": 26,
     "metadata": {},
     "output_type": "execute_result"
    }
   ],
   "source": [
    "name_types[name_types > 45]"
   ]
  },
  {
   "cell_type": "code",
   "execution_count": 31,
   "metadata": {
    "colab": {
     "base_uri": "https://localhost:8080/"
    },
    "id": "VIFtUiRTe3iG",
    "outputId": "30358f00-d5ec-4184-91bd-49b4a260017e"
   },
   "outputs": [
    {
     "data": {
      "text/plain": [
       "Other                                                         20043\n",
       "PARENT BOOSTER USA INC                                         1260\n",
       "TOPS CLUB INC                                                   765\n",
       "UNITED STATES BOWLING CONGRESS INC                              700\n",
       "WASHINGTON STATE UNIVERSITY                                     492\n",
       "                                                              ...  \n",
       "HUMBLE ISD EDUCATIONAL SUPPORT GROUPS INC                         6\n",
       "DELTA KAPPA GAMMA SOCIETY INTERNATIONAL                           6\n",
       "AMERICAN INDEPENDENT BUSINESS ALLIANCE                            6\n",
       "OFFICE AND PROFESSIONAL EMPLOYEES INTERNATIONAL UNION             6\n",
       "DEPARTMENT OF OREGON LADIES AUXILLARY TO THE VFW OF THE US        6\n",
       "Name: NAME, Length: 355, dtype: int64"
      ]
     },
     "execution_count": 31,
     "metadata": {},
     "output_type": "execute_result"
    }
   ],
   "source": [
    "# Determine which values to replace if counts are less than or equal to 5.\n",
    "\n",
    "name_types_to_replace = list(name_types[name_types <= 5].index)\n",
    "\n",
    "# Replace in dataframe\n",
    "for name in name_types_to_replace:\n",
    "    charity2_df['NAME'] = charity2_df['NAME'].replace(name,\"Other\")\n",
    "    \n",
    "# Check to make sure binning was successful\n",
    "charity2_df['NAME'].value_counts()"
   ]
  },
  {
   "cell_type": "code",
   "execution_count": 32,
   "metadata": {
    "colab": {
     "base_uri": "https://localhost:8080/"
    },
    "id": "pefev_j-e7vN",
    "outputId": "dc2cb145-7f8c-45f0-ae74-2388785fff1f"
   },
   "outputs": [
    {
     "data": {
      "text/plain": [
       "T3     27037\n",
       "T4      1542\n",
       "T6      1216\n",
       "T5      1173\n",
       "T19     1065\n",
       "T8       737\n",
       "T7       725\n",
       "T10      528\n",
       "T9       156\n",
       "T13       66\n",
       "T12       27\n",
       "T2        16\n",
       "T25        3\n",
       "T14        3\n",
       "T15        2\n",
       "T29        2\n",
       "T17        1\n",
       "Name: APPLICATION_TYPE, dtype: int64"
      ]
     },
     "execution_count": 32,
     "metadata": {},
     "output_type": "execute_result"
    }
   ],
   "source": [
    "# Look at APPLICATION_TYPE value counts for binning\n",
    "\n",
    "application_types = charity2_df['APPLICATION_TYPE'].value_counts()\n",
    "application_types"
   ]
  },
  {
   "cell_type": "code",
   "execution_count": 33,
   "metadata": {
    "colab": {
     "base_uri": "https://localhost:8080/"
    },
    "id": "qn1wg4bDfArL",
    "outputId": "a6eb854b-1953-4cfe-8ad0-668baaa5bff9"
   },
   "outputs": [
    {
     "data": {
      "text/plain": [
       "T3       27037\n",
       "T4        1542\n",
       "T6        1216\n",
       "T5        1173\n",
       "T19       1065\n",
       "T8         737\n",
       "T7         725\n",
       "T10        528\n",
       "Other      276\n",
       "Name: APPLICATION_TYPE, dtype: int64"
      ]
     },
     "execution_count": 33,
     "metadata": {},
     "output_type": "execute_result"
    }
   ],
   "source": [
    "# Determine which values to replace if application counts are less than 500\n",
    "\n",
    "application_types_to_replace = list(application_types[application_types < 500].index)\n",
    "\n",
    "# Replace in dataframe\n",
    "for app in application_types_to_replace:\n",
    "    charity2_df['APPLICATION_TYPE'] = charity2_df['APPLICATION_TYPE'].replace(app,\"Other\")\n",
    "\n",
    "# Check to make sure binning was successful\n",
    "charity2_df['APPLICATION_TYPE'].value_counts()"
   ]
  },
  {
   "cell_type": "code",
   "execution_count": 34,
   "metadata": {
    "colab": {
     "base_uri": "https://localhost:8080/"
    },
    "id": "w39XpIpcfi1l",
    "outputId": "97b78648-13b5-40f6-e5a3-accc1766b6f0"
   },
   "outputs": [
    {
     "data": {
      "text/plain": [
       "C1000    17326\n",
       "C2000     6074\n",
       "C1200     4837\n",
       "C3000     1918\n",
       "C2100     1883\n",
       "         ...  \n",
       "C1236        1\n",
       "C6100        1\n",
       "C1370        1\n",
       "C4120        1\n",
       "C1728        1\n",
       "Name: CLASSIFICATION, Length: 71, dtype: int64"
      ]
     },
     "execution_count": 34,
     "metadata": {},
     "output_type": "execute_result"
    }
   ],
   "source": [
    "# Look at CLASSIFICATION value counts for binning\n",
    "\n",
    "class_types = charity2_df['CLASSIFICATION'].value_counts()\n",
    "class_types"
   ]
  },
  {
   "cell_type": "code",
   "execution_count": 35,
   "metadata": {
    "colab": {
     "base_uri": "https://localhost:8080/"
    },
    "id": "nvrGKKqZfuQF",
    "outputId": "f7c0f6d3-f6a2-47e0-a467-9068043a0ad3"
   },
   "outputs": [
    {
     "data": {
      "text/plain": [
       "C1000    17326\n",
       "C2000     6074\n",
       "C1200     4837\n",
       "Other     2261\n",
       "C3000     1918\n",
       "C2100     1883\n",
       "Name: CLASSIFICATION, dtype: int64"
      ]
     },
     "execution_count": 35,
     "metadata": {},
     "output_type": "execute_result"
    }
   ],
   "source": [
    "# Determine which values to replace if counts are less than 1000\n",
    "\n",
    "class_types_to_replace = list(class_types[class_types < 1000].index)\n",
    "\n",
    "# Replace in dataframe\n",
    "for cls in class_types_to_replace:\n",
    "    charity2_df['CLASSIFICATION'] = charity2_df['CLASSIFICATION'].replace(cls,\"Other\")\n",
    "    \n",
    "# Check to make sure binning was successful\n",
    "charity2_df['CLASSIFICATION'].value_counts()"
   ]
  },
  {
   "cell_type": "code",
   "execution_count": 41,
   "metadata": {
    "colab": {
     "base_uri": "https://localhost:8080/"
    },
    "id": "yJ29pfUvgDDG",
    "outputId": "c22052be-7d1e-4bb0-b2a7-8486b7ae6b0a"
   },
   "outputs": [
    {
     "data": {
      "text/plain": [
       "['NAME',\n",
       " 'APPLICATION_TYPE',\n",
       " 'AFFILIATION',\n",
       " 'CLASSIFICATION',\n",
       " 'USE_CASE',\n",
       " 'ORGANIZATION',\n",
       " 'STATUS',\n",
       " 'INCOME_AMT',\n",
       " 'SPECIAL_CONSIDERATIONS',\n",
       " 'ASK_AMT',\n",
       " 'IS_SUCCESSFUL']"
      ]
     },
     "execution_count": 41,
     "metadata": {},
     "output_type": "execute_result"
    }
   ],
   "source": [
    "# Generate our categorical variable lists\n",
    "\n",
    "charity2_df.columns.tolist()"
   ]
  },
  {
   "cell_type": "code",
   "execution_count": 42,
   "metadata": {
    "id": "wbGzUOEAgFcd"
   },
   "outputs": [
    {
     "data": {
      "text/plain": [
       "(34299, 399)"
      ]
     },
     "execution_count": 42,
     "metadata": {},
     "output_type": "execute_result"
    }
   ],
   "source": [
    "# perform one-hot encoding on the data\n",
    "\n",
    "charity3_df = pd.get_dummies(charity2_df)\n",
    "charity3_df.shape"
   ]
  },
  {
   "cell_type": "code",
   "execution_count": 43,
   "metadata": {
    "id": "4annACb6gV0W"
   },
   "outputs": [],
   "source": [
    "# Split our preprocessed data into our features and target arrays\n",
    "\n",
    "y = charity3_df['IS_SUCCESSFUL'].values\n",
    "X = charity3_df.drop(['IS_SUCCESSFUL'], 1).values\n",
    "\n",
    "# Split the preprocessed data into a training and testing dataset\n",
    "\n",
    "X_train, X_test, y_train, y_test = train_test_split(X, y, random_state=42)"
   ]
  },
  {
   "cell_type": "code",
   "execution_count": 44,
   "metadata": {
    "id": "I1yFkAKygfT9"
   },
   "outputs": [
    {
     "data": {
      "text/plain": [
       "398"
      ]
     },
     "execution_count": 44,
     "metadata": {},
     "output_type": "execute_result"
    }
   ],
   "source": [
    "# Create a StandardScaler instances\n",
    "scaler = StandardScaler()\n",
    "\n",
    "# Fit the StandardScaler\n",
    "X_scaler = scaler.fit(X_train)\n",
    "\n",
    "# Scale the data\n",
    "X_train_scaled = X_scaler.transform(X_train)\n",
    "X_test_scaled = X_scaler.transform(X_test)\n",
    "\n",
    "len(X_train[0])"
   ]
  },
  {
   "cell_type": "code",
   "execution_count": 46,
   "metadata": {
    "colab": {
     "base_uri": "https://localhost:8080/"
    },
    "id": "03MKKSa0hIvW",
    "outputId": "580f69c3-221f-4b03-c7d1-2379626e16f1"
   },
   "outputs": [
    {
     "name": "stdout",
     "output_type": "stream",
     "text": [
      "Model: \"sequential_1\"\n",
      "_________________________________________________________________\n",
      " Layer (type)                Output Shape              Param #   \n",
      "=================================================================\n",
      " dense_4 (Dense)             (None, 100)               39900     \n",
      "                                                                 \n",
      " dense_5 (Dense)             (None, 30)                3030      \n",
      "                                                                 \n",
      " dense_6 (Dense)             (None, 10)                310       \n",
      "                                                                 \n",
      " dense_7 (Dense)             (None, 1)                 11        \n",
      "                                                                 \n",
      "=================================================================\n",
      "Total params: 43,251\n",
      "Trainable params: 43,251\n",
      "Non-trainable params: 0\n",
      "_________________________________________________________________\n"
     ]
    }
   ],
   "source": [
    "# Define the model - deep neural net\n",
    "number_input_features = len(X_train[0])\n",
    "hidden_nodes_layer1 =  100\n",
    "hidden_nodes_layer2 = 30\n",
    "hidden_nodes_layer3 = 10\n",
    "\n",
    "nn = tf.keras.models.Sequential()\n",
    "\n",
    "# First hidden layer\n",
    "nn.add(\n",
    "    tf.keras.layers.Dense(units=hidden_nodes_layer1, input_dim=number_input_features, activation=\"relu\")\n",
    ")\n",
    "\n",
    "# Second hidden layer\n",
    "nn.add(tf.keras.layers.Dense(units=hidden_nodes_layer2, activation=\"sigmoid\"))\n",
    "\n",
    "# Third hidden layer\n",
    "nn.add(tf.keras.layers.Dense(units=hidden_nodes_layer3, activation=\"sigmoid\"))\n",
    "\n",
    "# Output layer\n",
    "nn.add(tf.keras.layers.Dense(units=1, activation=\"sigmoid\"))\n",
    "\n",
    "# Check the structure of the model\n",
    "nn.summary()"
   ]
  },
  {
   "cell_type": "code",
   "execution_count": 47,
   "metadata": {
    "id": "fgDLjc1PhRM1"
   },
   "outputs": [],
   "source": [
    "# Compile the model\n",
    "\n",
    "nn.compile(loss=\"binary_crossentropy\", optimizer=\"adam\", metrics=[\"accuracy\"])"
   ]
  },
  {
   "cell_type": "code",
   "execution_count": 48,
   "metadata": {
    "colab": {
     "base_uri": "https://localhost:8080/"
    },
    "id": "sNkzxjPdhWWJ",
    "outputId": "52eeeaf4-5923-4d3a-b671-a879dab24cbc"
   },
   "outputs": [
    {
     "name": "stdout",
     "output_type": "stream",
     "text": [
      "Epoch 1/100\n",
      "804/804 [==============================] - 1s 724us/step - loss: 0.4967 - accuracy: 0.7715\n",
      "Epoch 2/100\n",
      "804/804 [==============================] - 1s 713us/step - loss: 0.4402 - accuracy: 0.7946\n",
      "Epoch 3/100\n",
      "804/804 [==============================] - 1s 736us/step - loss: 0.4322 - accuracy: 0.7965\n",
      "Epoch 4/100\n",
      "804/804 [==============================] - 1s 727us/step - loss: 0.4282 - accuracy: 0.7999\n",
      "Epoch 5/100\n",
      "804/804 [==============================] - 1s 740us/step - loss: 0.4251 - accuracy: 0.7986\n",
      "Epoch 6/100\n",
      "804/804 [==============================] - 1s 708us/step - loss: 0.4234 - accuracy: 0.7983\n",
      "Epoch 7/100\n",
      "804/804 [==============================] - 1s 706us/step - loss: 0.4221 - accuracy: 0.7989\n",
      "Epoch 8/100\n",
      "804/804 [==============================] - 1s 706us/step - loss: 0.4209 - accuracy: 0.8003\n",
      "Epoch 9/100\n",
      "804/804 [==============================] - 1s 711us/step - loss: 0.4196 - accuracy: 0.8007\n",
      "Epoch 10/100\n",
      "804/804 [==============================] - 1s 708us/step - loss: 0.4184 - accuracy: 0.8014\n",
      "Epoch 11/100\n",
      "804/804 [==============================] - 1s 727us/step - loss: 0.4178 - accuracy: 0.8006\n",
      "Epoch 12/100\n",
      "804/804 [==============================] - 1s 720us/step - loss: 0.4172 - accuracy: 0.8001\n",
      "Epoch 13/100\n",
      "804/804 [==============================] - 1s 712us/step - loss: 0.4164 - accuracy: 0.8015\n",
      "Epoch 14/100\n",
      "804/804 [==============================] - 1s 712us/step - loss: 0.4159 - accuracy: 0.8023\n",
      "Epoch 15/100\n",
      "804/804 [==============================] - 1s 712us/step - loss: 0.4152 - accuracy: 0.8028\n",
      "Epoch 16/100\n",
      "804/804 [==============================] - 1s 710us/step - loss: 0.4146 - accuracy: 0.8019\n",
      "Epoch 17/100\n",
      "804/804 [==============================] - 1s 707us/step - loss: 0.4141 - accuracy: 0.8039\n",
      "Epoch 18/100\n",
      "804/804 [==============================] - 1s 710us/step - loss: 0.4136 - accuracy: 0.8025\n",
      "Epoch 19/100\n",
      "804/804 [==============================] - 1s 710us/step - loss: 0.4129 - accuracy: 0.8033\n",
      "Epoch 20/100\n",
      "804/804 [==============================] - 1s 713us/step - loss: 0.4125 - accuracy: 0.8042\n",
      "Epoch 21/100\n",
      "804/804 [==============================] - 1s 702us/step - loss: 0.4118 - accuracy: 0.8022\n",
      "Epoch 22/100\n",
      "804/804 [==============================] - 1s 706us/step - loss: 0.4116 - accuracy: 0.8033\n",
      "Epoch 23/100\n",
      "804/804 [==============================] - 1s 704us/step - loss: 0.4113 - accuracy: 0.8038\n",
      "Epoch 24/100\n",
      "804/804 [==============================] - 1s 705us/step - loss: 0.4108 - accuracy: 0.8037\n",
      "Epoch 25/100\n",
      "804/804 [==============================] - 1s 706us/step - loss: 0.4101 - accuracy: 0.8051\n",
      "Epoch 26/100\n",
      "804/804 [==============================] - 1s 719us/step - loss: 0.4094 - accuracy: 0.8036\n",
      "Epoch 27/100\n",
      "804/804 [==============================] - 1s 712us/step - loss: 0.4089 - accuracy: 0.8039\n",
      "Epoch 28/100\n",
      "804/804 [==============================] - 1s 736us/step - loss: 0.4087 - accuracy: 0.8047\n",
      "Epoch 29/100\n",
      "804/804 [==============================] - 1s 716us/step - loss: 0.4084 - accuracy: 0.8045\n",
      "Epoch 30/100\n",
      "804/804 [==============================] - 1s 714us/step - loss: 0.4086 - accuracy: 0.8051\n",
      "Epoch 31/100\n",
      "804/804 [==============================] - 1s 746us/step - loss: 0.4076 - accuracy: 0.8052\n",
      "Epoch 32/100\n",
      "804/804 [==============================] - 1s 775us/step - loss: 0.4078 - accuracy: 0.8048\n",
      "Epoch 33/100\n",
      "804/804 [==============================] - 1s 772us/step - loss: 0.4071 - accuracy: 0.8065\n",
      "Epoch 34/100\n",
      "804/804 [==============================] - 1s 723us/step - loss: 0.4070 - accuracy: 0.8061\n",
      "Epoch 35/100\n",
      "804/804 [==============================] - 1s 726us/step - loss: 0.4068 - accuracy: 0.8055\n",
      "Epoch 36/100\n",
      "804/804 [==============================] - 1s 736us/step - loss: 0.4064 - accuracy: 0.8066\n",
      "Epoch 37/100\n",
      "804/804 [==============================] - 1s 733us/step - loss: 0.4061 - accuracy: 0.8057\n",
      "Epoch 38/100\n",
      "804/804 [==============================] - 1s 741us/step - loss: 0.4056 - accuracy: 0.8062\n",
      "Epoch 39/100\n",
      "804/804 [==============================] - 1s 742us/step - loss: 0.4056 - accuracy: 0.8062\n",
      "Epoch 40/100\n",
      "804/804 [==============================] - 1s 729us/step - loss: 0.4052 - accuracy: 0.8063\n",
      "Epoch 41/100\n",
      "804/804 [==============================] - 1s 745us/step - loss: 0.4054 - accuracy: 0.8056\n",
      "Epoch 42/100\n",
      "804/804 [==============================] - 1s 733us/step - loss: 0.4056 - accuracy: 0.8074\n",
      "Epoch 43/100\n",
      "804/804 [==============================] - 1s 736us/step - loss: 0.4049 - accuracy: 0.8065\n",
      "Epoch 44/100\n",
      "804/804 [==============================] - 1s 735us/step - loss: 0.4046 - accuracy: 0.8065\n",
      "Epoch 45/100\n",
      "804/804 [==============================] - 1s 746us/step - loss: 0.4043 - accuracy: 0.8063\n",
      "Epoch 46/100\n",
      "804/804 [==============================] - 1s 744us/step - loss: 0.4041 - accuracy: 0.8067\n",
      "Epoch 47/100\n",
      "804/804 [==============================] - 1s 744us/step - loss: 0.4038 - accuracy: 0.8070\n",
      "Epoch 48/100\n",
      "804/804 [==============================] - 1s 757us/step - loss: 0.4039 - accuracy: 0.8063\n",
      "Epoch 49/100\n",
      "804/804 [==============================] - 1s 739us/step - loss: 0.4034 - accuracy: 0.8067\n",
      "Epoch 50/100\n",
      "804/804 [==============================] - 1s 744us/step - loss: 0.4034 - accuracy: 0.8068\n",
      "Epoch 51/100\n",
      "804/804 [==============================] - 1s 746us/step - loss: 0.4029 - accuracy: 0.8070\n",
      "Epoch 52/100\n",
      "804/804 [==============================] - 1s 745us/step - loss: 0.4029 - accuracy: 0.8071\n",
      "Epoch 53/100\n",
      "804/804 [==============================] - 1s 746us/step - loss: 0.4028 - accuracy: 0.8071\n",
      "Epoch 54/100\n",
      "804/804 [==============================] - 1s 748us/step - loss: 0.4024 - accuracy: 0.8064\n",
      "Epoch 55/100\n",
      "804/804 [==============================] - 1s 748us/step - loss: 0.4029 - accuracy: 0.8069\n",
      "Epoch 56/100\n",
      "804/804 [==============================] - 1s 747us/step - loss: 0.4024 - accuracy: 0.8064\n",
      "Epoch 57/100\n",
      "804/804 [==============================] - 1s 747us/step - loss: 0.4024 - accuracy: 0.8078\n",
      "Epoch 58/100\n",
      "804/804 [==============================] - 1s 748us/step - loss: 0.4018 - accuracy: 0.8069\n",
      "Epoch 59/100\n",
      "804/804 [==============================] - 1s 755us/step - loss: 0.4017 - accuracy: 0.8069\n",
      "Epoch 60/100\n",
      "804/804 [==============================] - 1s 746us/step - loss: 0.4017 - accuracy: 0.8072\n",
      "Epoch 61/100\n",
      "804/804 [==============================] - 1s 748us/step - loss: 0.4018 - accuracy: 0.8075\n",
      "Epoch 62/100\n",
      "804/804 [==============================] - 1s 833us/step - loss: 0.4018 - accuracy: 0.8078\n",
      "Epoch 63/100\n",
      "804/804 [==============================] - 1s 750us/step - loss: 0.4016 - accuracy: 0.8067\n",
      "Epoch 64/100\n",
      "804/804 [==============================] - 1s 761us/step - loss: 0.4015 - accuracy: 0.8069\n",
      "Epoch 65/100\n",
      "804/804 [==============================] - 1s 762us/step - loss: 0.4012 - accuracy: 0.8082\n",
      "Epoch 66/100\n",
      "804/804 [==============================] - 1s 756us/step - loss: 0.4013 - accuracy: 0.8073\n",
      "Epoch 67/100\n",
      "804/804 [==============================] - 1s 755us/step - loss: 0.4013 - accuracy: 0.8081\n",
      "Epoch 68/100\n",
      "804/804 [==============================] - 1s 749us/step - loss: 0.4009 - accuracy: 0.8082\n",
      "Epoch 69/100\n",
      "804/804 [==============================] - 1s 763us/step - loss: 0.4007 - accuracy: 0.8080\n",
      "Epoch 70/100\n",
      "804/804 [==============================] - 1s 757us/step - loss: 0.4010 - accuracy: 0.8075\n",
      "Epoch 71/100\n",
      "804/804 [==============================] - 1s 761us/step - loss: 0.4012 - accuracy: 0.8082\n",
      "Epoch 72/100\n",
      "804/804 [==============================] - 1s 759us/step - loss: 0.4006 - accuracy: 0.8082\n",
      "Epoch 73/100\n",
      "804/804 [==============================] - 1s 760us/step - loss: 0.4009 - accuracy: 0.8075\n",
      "Epoch 74/100\n",
      "804/804 [==============================] - 1s 788us/step - loss: 0.4001 - accuracy: 0.8081\n",
      "Epoch 75/100\n",
      "804/804 [==============================] - 1s 794us/step - loss: 0.4006 - accuracy: 0.8088\n",
      "Epoch 76/100\n",
      "804/804 [==============================] - 1s 824us/step - loss: 0.4004 - accuracy: 0.8075\n",
      "Epoch 77/100\n",
      "804/804 [==============================] - 1s 820us/step - loss: 0.4004 - accuracy: 0.8084\n",
      "Epoch 78/100\n",
      "804/804 [==============================] - 1s 815us/step - loss: 0.4002 - accuracy: 0.8087\n",
      "Epoch 79/100\n"
     ]
    },
    {
     "name": "stdout",
     "output_type": "stream",
     "text": [
      "804/804 [==============================] - 1s 762us/step - loss: 0.3996 - accuracy: 0.8084\n",
      "Epoch 80/100\n",
      "804/804 [==============================] - 1s 755us/step - loss: 0.3999 - accuracy: 0.8085\n",
      "Epoch 81/100\n",
      "804/804 [==============================] - 1s 757us/step - loss: 0.4004 - accuracy: 0.8088\n",
      "Epoch 82/100\n",
      "804/804 [==============================] - 1s 767us/step - loss: 0.4000 - accuracy: 0.8085\n",
      "Epoch 83/100\n",
      "804/804 [==============================] - 1s 764us/step - loss: 0.4000 - accuracy: 0.8092\n",
      "Epoch 84/100\n",
      "804/804 [==============================] - 1s 787us/step - loss: 0.3995 - accuracy: 0.8084\n",
      "Epoch 85/100\n",
      "804/804 [==============================] - 1s 786us/step - loss: 0.3997 - accuracy: 0.8078\n",
      "Epoch 86/100\n",
      "804/804 [==============================] - 1s 767us/step - loss: 0.3993 - accuracy: 0.8080\n",
      "Epoch 87/100\n",
      "804/804 [==============================] - 1s 775us/step - loss: 0.3999 - accuracy: 0.8085\n",
      "Epoch 88/100\n",
      "804/804 [==============================] - 1s 766us/step - loss: 0.3994 - accuracy: 0.8080\n",
      "Epoch 89/100\n",
      "804/804 [==============================] - 1s 762us/step - loss: 0.3995 - accuracy: 0.8085\n",
      "Epoch 90/100\n",
      "804/804 [==============================] - 1s 768us/step - loss: 0.3995 - accuracy: 0.8088\n",
      "Epoch 91/100\n",
      "804/804 [==============================] - 1s 768us/step - loss: 0.3991 - accuracy: 0.8091\n",
      "Epoch 92/100\n",
      "804/804 [==============================] - 1s 773us/step - loss: 0.3988 - accuracy: 0.8082\n",
      "Epoch 93/100\n",
      "804/804 [==============================] - 1s 834us/step - loss: 0.3987 - accuracy: 0.8094\n",
      "Epoch 94/100\n",
      "804/804 [==============================] - 1s 971us/step - loss: 0.3991 - accuracy: 0.8094\n",
      "Epoch 95/100\n",
      "804/804 [==============================] - 1s 886us/step - loss: 0.3996 - accuracy: 0.8091\n",
      "Epoch 96/100\n",
      "804/804 [==============================] - 1s 917us/step - loss: 0.3991 - accuracy: 0.8097\n",
      "Epoch 97/100\n",
      "804/804 [==============================] - 1s 892us/step - loss: 0.3987 - accuracy: 0.8095\n",
      "Epoch 98/100\n",
      "804/804 [==============================] - 1s 886us/step - loss: 0.3987 - accuracy: 0.8091\n",
      "Epoch 99/100\n",
      "804/804 [==============================] - 1s 916us/step - loss: 0.3988 - accuracy: 0.8091\n",
      "Epoch 100/100\n",
      "804/804 [==============================] - 1s 894us/step - loss: 0.3986 - accuracy: 0.8095\n"
     ]
    }
   ],
   "source": [
    "# Train the model\n",
    "\n",
    "fit_model = nn.fit(X_train_scaled,y_train,epochs=100, verbose=1)"
   ]
  },
  {
   "cell_type": "code",
   "execution_count": 57,
   "metadata": {
    "colab": {
     "base_uri": "https://localhost:8080/"
    },
    "id": "0LsGjF28hbG-",
    "outputId": "ad4cb35b-e6e2-4923-c485-2885ce85e7e1"
   },
   "outputs": [
    {
     "name": "stdout",
     "output_type": "stream",
     "text": [
      "268/268 - 0s - loss: 0.4714 - accuracy: 0.7866 - 131ms/epoch - 487us/step\n",
      "Loss: 47.1%, Accuracy: 78.7%\n"
     ]
    }
   ],
   "source": [
    "# Evaluate the model using the test data\n",
    "model_loss, model_accuracy = nn.evaluate(X_test_scaled,y_test,verbose=2)\n",
    "print(f\"Loss: {model_loss*100:2.1f}%, Accuracy: {model_accuracy*100:2.1f}%\")"
   ]
  },
  {
   "cell_type": "code",
   "execution_count": 58,
   "metadata": {
    "id": "vCvv_5jhhgNC"
   },
   "outputs": [],
   "source": [
    "# Export our model to HDF5 file\n",
    "nn.save(\"AlphabetSoupCharity_Optimization.h5\")"
   ]
  },
  {
   "cell_type": "markdown",
   "metadata": {
    "id": "m5jSjFvLk1-q"
   },
   "source": [
    "USE A RANDOM FOREST CLASSIFIER ON THE DATASET"
   ]
  },
  {
   "cell_type": "code",
   "execution_count": 60,
   "metadata": {
    "id": "vf647wrEiC-E"
   },
   "outputs": [],
   "source": [
    "from sklearn.metrics import accuracy_score\n",
    "from sklearn.ensemble import RandomForestClassifier"
   ]
  },
  {
   "cell_type": "code",
   "execution_count": 61,
   "metadata": {
    "colab": {
     "base_uri": "https://localhost:8080/"
    },
    "id": "BhW_6YaOiFUb",
    "outputId": "d250dc11-5fe4-4e04-cb3b-0a66de548550"
   },
   "outputs": [
    {
     "name": "stdout",
     "output_type": "stream",
     "text": [
      "Accuracy: 77.2%\n"
     ]
    }
   ],
   "source": [
    "# Create a random forest classifier.\n",
    "\n",
    "rf_model = RandomForestClassifier(n_estimators=128, random_state=42)\n",
    "\n",
    "# Fitting the model\n",
    "rf_model = rf_model.fit(X_train_scaled, y_train)\n",
    "\n",
    "# Evaluate the model\n",
    "y_pred = rf_model.predict(X_test_scaled)\n",
    "print(f\"Accuracy: {accuracy_score(y_test, y_pred)*100:2.1f}%\")"
   ]
  },
  {
   "cell_type": "code",
   "execution_count": null,
   "metadata": {},
   "outputs": [],
   "source": []
  }
 ],
 "metadata": {
  "colab": {
   "collapsed_sections": [],
   "name": "Part 3 and 4 - Starter_Code.ipynb",
   "provenance": []
  },
  "kernelspec": {
   "display_name": "Python 3",
   "language": "python",
   "name": "python3"
  },
  "language_info": {
   "codemirror_mode": {
    "name": "ipython",
    "version": 3
   },
   "file_extension": ".py",
   "mimetype": "text/x-python",
   "name": "python",
   "nbconvert_exporter": "python",
   "pygments_lexer": "ipython3",
   "version": "3.8.8"
  }
 },
 "nbformat": 4,
 "nbformat_minor": 1
}
